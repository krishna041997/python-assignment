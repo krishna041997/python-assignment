{
 "cells": [
  {
   "cell_type": "code",
   "execution_count": 18,
   "id": "5ceff4b2-68d2-4921-8316-d94cd1d86524",
   "metadata": {},
   "outputs": [],
   "source": [
    "l1=[]\n",
    "l2=[]\n",
    "\n",
    "for i in range(0,25):\n",
    "    if i%2==0:\n",
    "        l1.append(i)\n",
    "    else:\n",
    "                l2.append(i)\n",
    "                "
   ]
  },
  {
   "cell_type": "code",
   "execution_count": 19,
   "id": "c9d700e9-fb6e-4a56-a8c5-9adb91f9bb85",
   "metadata": {},
   "outputs": [
    {
     "data": {
      "text/plain": [
       "[1, 3, 5, 7, 9, 11, 13, 15, 17, 19, 21, 23]"
      ]
     },
     "execution_count": 19,
     "metadata": {},
     "output_type": "execute_result"
    }
   ],
   "source": [
    "l2"
   ]
  },
  {
   "cell_type": "code",
   "execution_count": null,
   "id": "ec304db1-1c80-4d80-94e4-993d4f8a9d43",
   "metadata": {},
   "outputs": [],
   "source": []
  },
  {
   "cell_type": "code",
   "execution_count": null,
   "id": "85487f72-3112-40b5-a7cb-2e3eb4f54f22",
   "metadata": {},
   "outputs": [],
   "source": []
  },
  {
   "cell_type": "code",
   "execution_count": 23,
   "id": "4c82f9db-cc44-4d0f-b34e-8538c80bab40",
   "metadata": {},
   "outputs": [],
   "source": [
    "def func(*args):\n",
    "    return args"
   ]
  },
  {
   "cell_type": "code",
   "execution_count": 20,
   "id": "dfaa26aa-6bac-4c8c-b78d-78c72d7eaac5",
   "metadata": {},
   "outputs": [
    {
     "data": {
      "text/plain": [
       "'def keyword is usedd to define a funcation'"
      ]
     },
     "execution_count": 20,
     "metadata": {},
     "output_type": "execute_result"
    }
   ],
   "source": [
    "\"def \" \"keyword is usedd to define a funcation\""
   ]
  },
  {
   "cell_type": "code",
   "execution_count": 25,
   "id": "dd991ca1-5dfa-4186-af2a-49c32f99bec7",
   "metadata": {},
   "outputs": [
    {
     "data": {
      "text/plain": [
       "(12, 5, 85, 'krishna', [12, 75, 95, 88], 15.63)"
      ]
     },
     "execution_count": 25,
     "metadata": {},
     "output_type": "execute_result"
    }
   ],
   "source": [
    "func(12,5,85 , \"krishna\" , [12,75,95,88] , 15.63 )"
   ]
  },
  {
   "cell_type": "code",
   "execution_count": 40,
   "id": "3a3d2cc2-db14-4739-a734-2eb2666f6ed7",
   "metadata": {},
   "outputs": [],
   "source": [
    "def func1(**kwargs):\n",
    "    return kwargs"
   ]
  },
  {
   "cell_type": "code",
   "execution_count": 41,
   "id": "9d149787-ea92-42a9-bbed-6d3f5d193189",
   "metadata": {},
   "outputs": [
    {
     "data": {
      "text/plain": [
       "dict"
      ]
     },
     "execution_count": 41,
     "metadata": {},
     "output_type": "execute_result"
    }
   ],
   "source": [
    "type(func1())"
   ]
  },
  {
   "cell_type": "code",
   "execution_count": 43,
   "id": "7dffd975-6c2e-4f54-9773-14ec3a55d663",
   "metadata": {},
   "outputs": [
    {
     "data": {
      "text/plain": [
       "{'a': [4, 5, 6, 7],\n",
       " 'b': 'this is my second assignment',\n",
       " 'c': 45.85,\n",
       " 'd': (4+5j)}"
      ]
     },
     "execution_count": 43,
     "metadata": {},
     "output_type": "execute_result"
    }
   ],
   "source": [
    "func1( a= [4,5,6,7] , b= \"this is my second assignment\" , c =45.85 ,d=4+5j )"
   ]
  },
  {
   "cell_type": "code",
   "execution_count": null,
   "id": "cac8f54b-537d-4d8a-8eba-1d9023ee6113",
   "metadata": {},
   "outputs": [],
   "source": []
  },
  {
   "cell_type": "code",
   "execution_count": null,
   "id": "e1c5b9e7-4159-44e5-8f80-2f3a0af86153",
   "metadata": {},
   "outputs": [],
   "source": []
  },
  {
   "cell_type": "code",
   "execution_count": 47,
   "id": "c765cc51-ac91-4fbb-b924-f67cbe1e05a7",
   "metadata": {},
   "outputs": [
    {
     "data": {
      "text/plain": [
       "'An iterator is an object that contains a countable number of valve'"
      ]
     },
     "execution_count": 47,
     "metadata": {},
     "output_type": "execute_result"
    }
   ],
   "source": [
    "\"An iterator is an object that contains a countable number of valve\""
   ]
  },
  {
   "cell_type": "code",
   "execution_count": 45,
   "id": "8e4cbf76-32a3-41f9-93f9-4b449a897000",
   "metadata": {},
   "outputs": [],
   "source": [
    "l=[2,4,6,8,10,12,14,16,18,20]"
   ]
  },
  {
   "cell_type": "code",
   "execution_count": 46,
   "id": "949d78b7-3c8a-43a2-92c9-835c4d47696a",
   "metadata": {},
   "outputs": [
    {
     "data": {
      "text/plain": [
       "list"
      ]
     },
     "execution_count": 46,
     "metadata": {},
     "output_type": "execute_result"
    }
   ],
   "source": [
    "type(l)"
   ]
  },
  {
   "cell_type": "code",
   "execution_count": 56,
   "id": "02a536c2-95aa-4e17-8b04-3a215172a863",
   "metadata": {},
   "outputs": [
    {
     "name": "stdout",
     "output_type": "stream",
     "text": [
      "2\n",
      "4\n",
      "6\n",
      "8\n",
      "10\n"
     ]
    }
   ],
   "source": [
    "for i in l:\n",
    "    if i==12:\n",
    "        break\n",
    "    print(i)"
   ]
  },
  {
   "cell_type": "code",
   "execution_count": null,
   "id": "92dac62d-6c21-41ad-8e30-a16b444798b2",
   "metadata": {},
   "outputs": [],
   "source": []
  },
  {
   "cell_type": "code",
   "execution_count": null,
   "id": "f262e26a-4b50-4215-b703-d0c141060a26",
   "metadata": {},
   "outputs": [],
   "source": []
  },
  {
   "cell_type": "code",
   "execution_count": 1,
   "id": "49bfb9d8-3e45-41b3-af7a-3c9494b1fa20",
   "metadata": {},
   "outputs": [
    {
     "name": "stdin",
     "output_type": "stream",
     "text": [
      "enter the number of element you are looking for 10\n"
     ]
    },
    {
     "name": "stdout",
     "output_type": "stream",
     "text": [
      "0\n",
      "1\n",
      "1\n",
      "2\n",
      "3\n",
      "5\n",
      "8\n",
      "13\n",
      "21\n",
      "34\n"
     ]
    }
   ],
   "source": [
    "number=int(input(\"enter the number of element you are looking for\"))\n",
    "a, b =0, 1\n",
    "counter=0\n",
    "while counter<number:\n",
    "    print(a)\n",
    "    c=a+b\n",
    "    a=b\n",
    "    b=c\n",
    "    counter=counter+1\n",
    "    \n"
   ]
  },
  {
   "cell_type": "code",
   "execution_count": null,
   "id": "5fa97281-39d4-4c93-ac21-6d95012f8bfa",
   "metadata": {},
   "outputs": [],
   "source": []
  },
  {
   "cell_type": "code",
   "execution_count": null,
   "id": "4ee4e4d2-6975-4674-953b-ed81791a8848",
   "metadata": {},
   "outputs": [],
   "source": []
  },
  {
   "cell_type": "code",
   "execution_count": 8,
   "id": "61fdaafe-be9f-476a-81c4-18a6341dd58c",
   "metadata": {},
   "outputs": [],
   "source": [
    "s=\"pwskills\""
   ]
  },
  {
   "cell_type": "code",
   "execution_count": 16,
   "id": "3e59fa77-65d6-463c-9589-d93b78a9c2b3",
   "metadata": {},
   "outputs": [
    {
     "name": "stdout",
     "output_type": "stream",
     "text": [
      "['p', 'w', 's', 'k', 'i', 'l', 'l', 's']\n"
     ]
    }
   ],
   "source": [
    "print(list(s))"
   ]
  },
  {
   "cell_type": "code",
   "execution_count": null,
   "id": "24b7ec93-4d2f-4a9c-957b-39404a3910a5",
   "metadata": {},
   "outputs": [],
   "source": []
  },
  {
   "cell_type": "code",
   "execution_count": null,
   "id": "e71e8e62-9dab-45a7-bc78-6edcaa019c01",
   "metadata": {},
   "outputs": [],
   "source": []
  },
  {
   "cell_type": "code",
   "execution_count": null,
   "id": "053920fa-0d1d-4221-b278-a3a69f159b08",
   "metadata": {},
   "outputs": [],
   "source": []
  }
 ],
 "metadata": {
  "kernelspec": {
   "display_name": "Python 3 (ipykernel)",
   "language": "python",
   "name": "python3"
  },
  "language_info": {
   "codemirror_mode": {
    "name": "ipython",
    "version": 3
   },
   "file_extension": ".py",
   "mimetype": "text/x-python",
   "name": "python",
   "nbconvert_exporter": "python",
   "pygments_lexer": "ipython3",
   "version": "3.10.8"
  }
 },
 "nbformat": 4,
 "nbformat_minor": 5
}
